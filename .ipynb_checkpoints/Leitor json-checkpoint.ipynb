{
 "cells": [
  {
   "cell_type": "code",
   "execution_count": null,
   "metadata": {},
   "outputs": [],
   "source": [
    "import uuid, json #uui (?) json para leitura de arquivos com essa extensão"
   ]
  },
  {
   "cell_type": "code",
   "execution_count": null,
   "metadata": {},
   "outputs": [],
   "source": [
    "# import json\n",
    "#conteudo = open('C:/Users/Vanessa Eufrauzino/Documents/conjunto de dados do PAI/APN2_13122019.json').read()\n",
    "#apn2 = json.loads(conteudo)\n",
    "#conteudo\n",
    "# df = []\n",
    "#with open('C:/Users/Vanessa Eufrauzino/Documents/conjunto de dados do PAI/APN2_13122019.json') as file_data:\n",
    "#    data = file_data.readlines()\n",
    "# for i in range(2,len(data)-1):\n",
    "#     temp = limpa_texto(data[i])\n",
    "#     df.append(json.loads(temp))"
   ]
  },
  {
   "cell_type": "code",
   "execution_count": 1,
   "metadata": {},
   "outputs": [
    {
     "ename": "SyntaxError",
     "evalue": "invalid syntax (<ipython-input-1-82296d37de0d>, line 39)",
     "output_type": "error",
     "traceback": [
      "\u001b[1;36m  File \u001b[1;32m\"<ipython-input-1-82296d37de0d>\"\u001b[1;36m, line \u001b[1;32m39\u001b[0m\n\u001b[1;33m    print '\\n--------------- Testing {0} ---------------'.format(nbname)\u001b[0m\n\u001b[1;37m                                                        ^\u001b[0m\n\u001b[1;31mSyntaxError\u001b[0m\u001b[1;31m:\u001b[0m invalid syntax\n"
     ]
    }
   ],
   "source": [
    "import numpy\n",
    "# import scipy\n",
    "# import matplotlib\n",
    "# import ipython\n",
    "# import jupyter\n",
    "# import ipywidgets\n",
    "import unittest\n",
    "import sys\n",
    "import os\n",
    "import subprocess\n",
    "\n",
    "# Testing for the notebooks - use nbconvert to execute all cells of the\n",
    "# notebook\n",
    "\n",
    "# For testing on TravisCI, be sure to include a requirements.txt that \n",
    "# includes jupyter so that you run on the most up-to-date version. \n",
    "\n",
    "\n",
    "TESTDIR = os.path.abspath(__file__) # absolutepath of this file\n",
    "NBDIR = os.path.sep.join(TESTDIR.split(os.path.sep)[:-2] + ['notebooks/']) # where are the notebooks?\n",
    "\n",
    "def setUp():\n",
    "    nbpaths = []  # list of notebooks, with file paths\n",
    "    nbnames = []  # list of notebook names (for making the tests)\n",
    "\n",
    "    # walk the test directory and find all notebooks\n",
    "    for dirname, dirnames, filenames in os.walk(NBDIR):\n",
    "        for filename in filenames:\n",
    "            if filename.endswith('.ipynb') and not filename.endswith('-checkpoint.ipynb'):\n",
    "                nbpaths.append(os.path.abspath(dirname) + os.path.sep + filename) # get abspath of notebook\n",
    "                nbnames.append(''.join(filename[:-6])) # strip off the file extension\n",
    "    return nbpaths, nbnames\n",
    "\n",
    "\n",
    "def get(nbname, nbpath):\n",
    "\n",
    "    # use nbconvert to execute the notebook\n",
    "    def test_func(self):\n",
    "        print ('\\n--------------- Testing {0} ---------------'.format(nbname))\n",
    "        print '   {0}'.format(nbpath)\n",
    "        # execute the notebook using nbconvert to generate html \n",
    "        nbexe = subprocess.Popen(['jupyter', 'nbconvert', '{0}'.format(nbpath),\n",
    "                                  '--execute',\n",
    "                                  '--ExecutePreprocessor.timeout=120'],\n",
    "                                 stdin=subprocess.PIPE, stdout=subprocess.PIPE,\n",
    "                                 stderr=subprocess.PIPE)\n",
    "        output, err = nbexe.communicate()\n",
    "        check = nbexe.returncode\n",
    "        if check == 0:\n",
    "            print '\\n ..... {0} Passed ..... \\n'.format(nbname)\n",
    "            # if passed remove the generated html file\n",
    "            subprocess.call(['rm', '{0}.html'.format(\n",
    "                             os.path.sep.join(os.getcwd().split(os.path.sep)\n",
    "                             + [nbpath.split(os.path.sep)[-1][:-6]]\n",
    "                             ))])\n",
    "        else:\n",
    "            print ('\\n <<<<< {0} FAILED >>>>> \\n'.format(nbname))\n",
    "            print ('Captured Output: \\n {0}'.format(err))\n",
    "\n",
    "        self.assertTrue(check == 0)\n",
    "\n",
    "    return test_func\n",
    "\n",
    "\n",
    "\n",
    "attrs = dict()\n",
    "nbpaths, nbnames = setUp()\n",
    "\n",
    "# build test for each notebook\n",
    "for i, nb in enumerate(nbnames):\n",
    "    attrs['test_'+nb] = get(nb, nbpaths[i])\n",
    "\n",
    "# create class to unit test notebooks\n",
    "TestNotebooks = type('TestNotebooks', (unittest.TestCase,), attrs)\n",
    "\n",
    "\n",
    "if __name__ == '__main__':\n",
    "    unittest.main()"
   ]
  }
 ],
 "metadata": {
  "kernelspec": {
   "display_name": "Python 3",
   "language": "python",
   "name": "python3"
  },
  "language_info": {
   "codemirror_mode": {
    "name": "ipython",
    "version": 3
   },
   "file_extension": ".py",
   "mimetype": "text/x-python",
   "name": "python",
   "nbconvert_exporter": "python",
   "pygments_lexer": "ipython3",
   "version": "3.7.6"
  }
 },
 "nbformat": 4,
 "nbformat_minor": 2
}
