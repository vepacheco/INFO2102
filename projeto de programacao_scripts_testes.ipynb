{
 "cells": [
  {
   "cell_type": "code",
   "execution_count": null,
   "metadata": {
    "scrolled": false
   },
   "outputs": [],
   "source": [
    "!pip install pytest\n",
    "!pip install unittest\n",
    "!pip install tika\n",
    "!pip install PyPDF2\n",
    "!pip install python-docx\n",
    "!pip install -U spacy\n",
    "!python -m spacy download pt_core_news_sm\n",
    "!python -m spacy download pt_core_news_md"
   ]
  },
  {
   "cell_type": "code",
   "execution_count": 1,
   "metadata": {},
   "outputs": [
    {
     "name": "stderr",
     "output_type": "stream",
     "text": [
      "[nltk_data] Downloading package punkt to\n",
      "[nltk_data]     C:\\Users\\Vanessa\\AppData\\Roaming\\nltk_data...\n",
      "[nltk_data]   Package punkt is already up-to-date!\n",
      "[nltk_data] Downloading package stopwords to\n",
      "[nltk_data]     C:\\Users\\Vanessa\\AppData\\Roaming\\nltk_data...\n",
      "[nltk_data]   Package stopwords is already up-to-date!\n"
     ]
    }
   ],
   "source": [
    "import os\n",
    "import re\n",
    "import warnings\n",
    "import PyPDF2\n",
    "import pandas as pd\n",
    "import string\n",
    "import nltk\n",
    "import pytest\n",
    "import unittest\n",
    "import spacy #NLP e Machine learning\n",
    "from PyPDF2 import PdfFileWriter, PdfFileReader\n",
    "from tqdm import tqdm_notebook\n",
    "from sklearn import utils\n",
    "nltk.download('punkt')\n",
    "nltk.download('stopwords')\n",
    "from nltk.corpus import stopwords\n",
    "from nltk import word_tokenize,sent_tokenize\n",
    "from string import punctuation\n",
    "from tika import parser\n",
    "from docx import Document\n",
    "import unicodedata\n",
    "warnings.filterwarnings(\"ignore\")"
   ]
  },
  {
   "cell_type": "markdown",
   "metadata": {},
   "source": [
    "### Os testes realizados abaixo foram utilizando o módulo pytest tem como resultado correto none e como resultado incorreto um erro.  Antes de cada teste existe um comentario com a resposta que teria que ser acertiva."
   ]
  },
  {
   "cell_type": "code",
   "execution_count": 2,
   "metadata": {},
   "outputs": [],
   "source": [
    "\"Função de importação de documentos a partir de um diretório para extração do texto\"\n",
    "\n",
    "def import_arquivos(diretorio):\n",
    "    arquivos = [arq for arq in os.listdir(diretorio) if (arq.lower().endswith(\".pdf\") | arq.lower().endswith(\".docx\"))]\n",
    "    return(arquivos)"
   ]
  },
  {
   "cell_type": "code",
   "execution_count": 3,
   "metadata": {},
   "outputs": [],
   "source": [
    "'''Teste de importação de documentos a partir de um diretório,\n",
    "caso o diretório seja vazio ou com arquivos diferentes da extensão definida,\n",
    "então o retorno é um erro, caso contrário, None'''\n",
    "\n",
    "def test_import(diret):\n",
    "    assert len(import_arquivos(diret)) != 0 "
   ]
  },
  {
   "cell_type": "code",
   "execution_count": 4,
   "metadata": {},
   "outputs": [
    {
     "ename": "AssertionError",
     "evalue": "",
     "output_type": "error",
     "traceback": [
      "\u001b[1;31m---------------------------------------------------------------------------\u001b[0m",
      "\u001b[1;31mAssertionError\u001b[0m                            Traceback (most recent call last)",
      "\u001b[1;32m<ipython-input-4-cb330dc3b192>\u001b[0m in \u001b[0;36m<module>\u001b[1;34m\u001b[0m\n\u001b[0;32m      1\u001b[0m \u001b[1;34m\"AssertionError\"\u001b[0m\u001b[1;33m\u001b[0m\u001b[1;33m\u001b[0m\u001b[0m\n\u001b[0;32m      2\u001b[0m \u001b[0mdiret\u001b[0m \u001b[1;33m=\u001b[0m \u001b[1;34m\"./pasta_vazia\"\u001b[0m\u001b[1;33m\u001b[0m\u001b[1;33m\u001b[0m\u001b[0m\n\u001b[1;32m----> 3\u001b[1;33m \u001b[0mprint\u001b[0m\u001b[1;33m(\u001b[0m\u001b[0mtest_import\u001b[0m\u001b[1;33m(\u001b[0m\u001b[0mdiret\u001b[0m\u001b[1;33m)\u001b[0m\u001b[1;33m)\u001b[0m\u001b[1;33m\u001b[0m\u001b[1;33m\u001b[0m\u001b[0m\n\u001b[0m",
      "\u001b[1;32m<ipython-input-3-37c9785723fc>\u001b[0m in \u001b[0;36mtest_import\u001b[1;34m(diret)\u001b[0m\n\u001b[0;32m      4\u001b[0m \u001b[1;33m\u001b[0m\u001b[0m\n\u001b[0;32m      5\u001b[0m \u001b[1;32mdef\u001b[0m \u001b[0mtest_import\u001b[0m\u001b[1;33m(\u001b[0m\u001b[0mdiret\u001b[0m\u001b[1;33m)\u001b[0m\u001b[1;33m:\u001b[0m\u001b[1;33m\u001b[0m\u001b[1;33m\u001b[0m\u001b[0m\n\u001b[1;32m----> 6\u001b[1;33m     \u001b[1;32massert\u001b[0m \u001b[0mlen\u001b[0m\u001b[1;33m(\u001b[0m\u001b[0mimport_arquivos\u001b[0m\u001b[1;33m(\u001b[0m\u001b[0mdiret\u001b[0m\u001b[1;33m)\u001b[0m\u001b[1;33m)\u001b[0m \u001b[1;33m!=\u001b[0m \u001b[1;36m0\u001b[0m\u001b[1;33m\u001b[0m\u001b[1;33m\u001b[0m\u001b[0m\n\u001b[0m",
      "\u001b[1;31mAssertionError\u001b[0m: "
     ]
    }
   ],
   "source": [
    "\"AssertionError\"\n",
    "diret = \"./pasta_vazia\"\n",
    "print(test_import(diret))"
   ]
  },
  {
   "cell_type": "code",
   "execution_count": 5,
   "metadata": {},
   "outputs": [
    {
     "name": "stdout",
     "output_type": "stream",
     "text": [
      "None\n"
     ]
    }
   ],
   "source": [
    "\"AssertionError\"\n",
    "diret = './pasta_doc'\n",
    "print(test_import(diret))"
   ]
  },
  {
   "cell_type": "code",
   "execution_count": 6,
   "metadata": {},
   "outputs": [],
   "source": [
    "'''Função para confirmação de extensão do documento, se for docx então a saída é None, qualquer outra extensão então erro'''\n",
    "def test_doc(diretorio):\n",
    "    for i in import_arquivos(diretorio):\n",
    "        extensao = i.split('.')[1]\n",
    "        assert extensao == \"docx\""
   ]
  },
  {
   "cell_type": "code",
   "execution_count": 7,
   "metadata": {},
   "outputs": [],
   "source": [
    "'''Função para confirmação de extensão do documento, se for pdf então a saída é None, qualquer outra extensão então erro'''\n",
    "def test_pdf(diretorio):\n",
    "    for i in import_arquivos(diretorio):\n",
    "        extensao = i.split('.')[len(i.split('.'))-1]\n",
    "        assert extensao == 'pdf'"
   ]
  },
  {
   "cell_type": "code",
   "execution_count": 8,
   "metadata": {},
   "outputs": [
    {
     "name": "stdout",
     "output_type": "stream",
     "text": [
      "None\n"
     ]
    }
   ],
   "source": [
    "\"None\"\n",
    "print(test_doc('./pasta_doc'))"
   ]
  },
  {
   "cell_type": "code",
   "execution_count": 9,
   "metadata": {},
   "outputs": [
    {
     "ename": "AssertionError",
     "evalue": "",
     "output_type": "error",
     "traceback": [
      "\u001b[1;31m---------------------------------------------------------------------------\u001b[0m",
      "\u001b[1;31mAssertionError\u001b[0m                            Traceback (most recent call last)",
      "\u001b[1;32m<ipython-input-9-fd0e6353183a>\u001b[0m in \u001b[0;36m<module>\u001b[1;34m\u001b[0m\n\u001b[0;32m      1\u001b[0m \u001b[1;34m\"AssertionError\"\u001b[0m\u001b[1;33m\u001b[0m\u001b[1;33m\u001b[0m\u001b[0m\n\u001b[1;32m----> 2\u001b[1;33m \u001b[0mprint\u001b[0m\u001b[1;33m(\u001b[0m\u001b[0mtest_pdf\u001b[0m\u001b[1;33m(\u001b[0m\u001b[1;34m'./pasta_doc'\u001b[0m\u001b[1;33m)\u001b[0m\u001b[1;33m)\u001b[0m\u001b[1;33m\u001b[0m\u001b[1;33m\u001b[0m\u001b[0m\n\u001b[0m",
      "\u001b[1;32m<ipython-input-7-693ff891af08>\u001b[0m in \u001b[0;36mtest_pdf\u001b[1;34m(diretorio)\u001b[0m\n\u001b[0;32m      3\u001b[0m     \u001b[1;32mfor\u001b[0m \u001b[0mi\u001b[0m \u001b[1;32min\u001b[0m \u001b[0mimport_arquivos\u001b[0m\u001b[1;33m(\u001b[0m\u001b[0mdiretorio\u001b[0m\u001b[1;33m)\u001b[0m\u001b[1;33m:\u001b[0m\u001b[1;33m\u001b[0m\u001b[1;33m\u001b[0m\u001b[0m\n\u001b[0;32m      4\u001b[0m         \u001b[0mextensao\u001b[0m \u001b[1;33m=\u001b[0m \u001b[0mi\u001b[0m\u001b[1;33m.\u001b[0m\u001b[0msplit\u001b[0m\u001b[1;33m(\u001b[0m\u001b[1;34m'.'\u001b[0m\u001b[1;33m)\u001b[0m\u001b[1;33m[\u001b[0m\u001b[0mlen\u001b[0m\u001b[1;33m(\u001b[0m\u001b[0mi\u001b[0m\u001b[1;33m.\u001b[0m\u001b[0msplit\u001b[0m\u001b[1;33m(\u001b[0m\u001b[1;34m'.'\u001b[0m\u001b[1;33m)\u001b[0m\u001b[1;33m)\u001b[0m\u001b[1;33m-\u001b[0m\u001b[1;36m1\u001b[0m\u001b[1;33m]\u001b[0m\u001b[1;33m\u001b[0m\u001b[1;33m\u001b[0m\u001b[0m\n\u001b[1;32m----> 5\u001b[1;33m         \u001b[1;32massert\u001b[0m \u001b[0mextensao\u001b[0m \u001b[1;33m==\u001b[0m \u001b[1;34m'pdf'\u001b[0m\u001b[1;33m\u001b[0m\u001b[1;33m\u001b[0m\u001b[0m\n\u001b[0m",
      "\u001b[1;31mAssertionError\u001b[0m: "
     ]
    }
   ],
   "source": [
    "\"AssertionError\"\n",
    "print(test_pdf('./pasta_doc'))"
   ]
  },
  {
   "cell_type": "code",
   "execution_count": 10,
   "metadata": {},
   "outputs": [
    {
     "ename": "AssertionError",
     "evalue": "",
     "output_type": "error",
     "traceback": [
      "\u001b[1;31m---------------------------------------------------------------------------\u001b[0m",
      "\u001b[1;31mAssertionError\u001b[0m                            Traceback (most recent call last)",
      "\u001b[1;32m<ipython-input-10-d7b37794dff6>\u001b[0m in \u001b[0;36m<module>\u001b[1;34m\u001b[0m\n\u001b[0;32m      1\u001b[0m \u001b[1;34m\"AssertionError\"\u001b[0m\u001b[1;33m\u001b[0m\u001b[1;33m\u001b[0m\u001b[0m\n\u001b[1;32m----> 2\u001b[1;33m \u001b[0mprint\u001b[0m\u001b[1;33m(\u001b[0m\u001b[0mtest_doc\u001b[0m\u001b[1;33m(\u001b[0m\u001b[1;34m'.'\u001b[0m\u001b[1;33m)\u001b[0m\u001b[1;33m)\u001b[0m\u001b[1;33m\u001b[0m\u001b[1;33m\u001b[0m\u001b[0m\n\u001b[0m",
      "\u001b[1;32m<ipython-input-6-b7192ff3ca1e>\u001b[0m in \u001b[0;36mtest_doc\u001b[1;34m(diretorio)\u001b[0m\n\u001b[0;32m      3\u001b[0m     \u001b[1;32mfor\u001b[0m \u001b[0mi\u001b[0m \u001b[1;32min\u001b[0m \u001b[0mimport_arquivos\u001b[0m\u001b[1;33m(\u001b[0m\u001b[0mdiretorio\u001b[0m\u001b[1;33m)\u001b[0m\u001b[1;33m:\u001b[0m\u001b[1;33m\u001b[0m\u001b[1;33m\u001b[0m\u001b[0m\n\u001b[0;32m      4\u001b[0m         \u001b[0mextensao\u001b[0m \u001b[1;33m=\u001b[0m \u001b[0mi\u001b[0m\u001b[1;33m.\u001b[0m\u001b[0msplit\u001b[0m\u001b[1;33m(\u001b[0m\u001b[1;34m'.'\u001b[0m\u001b[1;33m)\u001b[0m\u001b[1;33m[\u001b[0m\u001b[1;36m1\u001b[0m\u001b[1;33m]\u001b[0m\u001b[1;33m\u001b[0m\u001b[1;33m\u001b[0m\u001b[0m\n\u001b[1;32m----> 5\u001b[1;33m         \u001b[1;32massert\u001b[0m \u001b[0mextensao\u001b[0m \u001b[1;33m==\u001b[0m \u001b[1;34m\"docx\"\u001b[0m\u001b[1;33m\u001b[0m\u001b[1;33m\u001b[0m\u001b[0m\n\u001b[0m",
      "\u001b[1;31mAssertionError\u001b[0m: "
     ]
    }
   ],
   "source": [
    "\"AssertionError\"\n",
    "print(test_doc('.'))"
   ]
  },
  {
   "cell_type": "code",
   "execution_count": 11,
   "metadata": {},
   "outputs": [
    {
     "name": "stdout",
     "output_type": "stream",
     "text": [
      "None\n"
     ]
    }
   ],
   "source": [
    "\"None\"\n",
    "print(test_pdf('.'))"
   ]
  },
  {
   "cell_type": "code",
   "execution_count": 12,
   "metadata": {},
   "outputs": [],
   "source": [
    "'''Função de redução de cx alta a partir de função já integrada. \n",
    "None é se as frases são diferentes, ou seja o teste funcionou e erro caso contrario'''\n",
    "def reducao_cx(frase):\n",
    "    assert frase.lower() == frase"
   ]
  },
  {
   "cell_type": "code",
   "execution_count": 13,
   "metadata": {},
   "outputs": [
    {
     "ename": "AssertionError",
     "evalue": "",
     "output_type": "error",
     "traceback": [
      "\u001b[1;31m---------------------------------------------------------------------------\u001b[0m",
      "\u001b[1;31mAssertionError\u001b[0m                            Traceback (most recent call last)",
      "\u001b[1;32m<ipython-input-13-7157a7a8a9b4>\u001b[0m in \u001b[0;36m<module>\u001b[1;34m\u001b[0m\n\u001b[0;32m      1\u001b[0m \u001b[1;34m\"AssertionError\"\u001b[0m\u001b[1;33m\u001b[0m\u001b[1;33m\u001b[0m\u001b[0m\n\u001b[1;32m----> 2\u001b[1;33m \u001b[0mprint\u001b[0m\u001b[1;33m(\u001b[0m\u001b[0mreducao_cx\u001b[0m\u001b[1;33m(\u001b[0m\u001b[1;34m\"Testando a funÇão\"\u001b[0m\u001b[1;33m)\u001b[0m\u001b[1;33m)\u001b[0m\u001b[1;33m\u001b[0m\u001b[1;33m\u001b[0m\u001b[0m\n\u001b[0m",
      "\u001b[1;32m<ipython-input-12-7710b4dfbe41>\u001b[0m in \u001b[0;36mreducao_cx\u001b[1;34m(frase)\u001b[0m\n\u001b[0;32m      2\u001b[0m None é se as frases são diferentes, ou seja o teste funcionou e erro caso contrario'''\n\u001b[0;32m      3\u001b[0m \u001b[1;32mdef\u001b[0m \u001b[0mreducao_cx\u001b[0m\u001b[1;33m(\u001b[0m\u001b[0mfrase\u001b[0m\u001b[1;33m)\u001b[0m\u001b[1;33m:\u001b[0m\u001b[1;33m\u001b[0m\u001b[1;33m\u001b[0m\u001b[0m\n\u001b[1;32m----> 4\u001b[1;33m     \u001b[1;32massert\u001b[0m \u001b[0mfrase\u001b[0m\u001b[1;33m.\u001b[0m\u001b[0mlower\u001b[0m\u001b[1;33m(\u001b[0m\u001b[1;33m)\u001b[0m \u001b[1;33m==\u001b[0m \u001b[0mfrase\u001b[0m\u001b[1;33m\u001b[0m\u001b[1;33m\u001b[0m\u001b[0m\n\u001b[0m",
      "\u001b[1;31mAssertionError\u001b[0m: "
     ]
    }
   ],
   "source": [
    "\"AssertionError\"\n",
    "print(reducao_cx(\"Testando a funÇão\"))"
   ]
  },
  {
   "cell_type": "code",
   "execution_count": 14,
   "metadata": {},
   "outputs": [],
   "source": [
    "'''Função de redução de cx alta a partir de função já integrada. \n",
    "None é se as frases são diferentes, ou seja o teste funcionou e erro caso contrario'''\n",
    "def reducao_cx(frase):\n",
    "    assert frase.lower() != frase"
   ]
  },
  {
   "cell_type": "code",
   "execution_count": 15,
   "metadata": {},
   "outputs": [
    {
     "name": "stdout",
     "output_type": "stream",
     "text": [
      "None\n"
     ]
    }
   ],
   "source": [
    "\"None\"\n",
    "print(reducao_cx(\"Testando a funÇão\"))"
   ]
  },
  {
   "cell_type": "code",
   "execution_count": 16,
   "metadata": {},
   "outputs": [],
   "source": [
    "'''Função de limpeza a partir de função já integrada. \n",
    "None é se as frases são diferentes, ou seja o teste funcionou e erro caso contrario'''\n",
    "\n",
    "def test_limpeza_stopwords(texto):\n",
    "    stop_words = stopwords.words('portuguese') + list(punctuation)\n",
    "    texto_limpo = ' '.join([word for word in texto.split(\" \") if word not in stop_words])\n",
    "    assert texto_limpo == texto"
   ]
  },
  {
   "cell_type": "code",
   "execution_count": 17,
   "metadata": {},
   "outputs": [
    {
     "ename": "AssertionError",
     "evalue": "",
     "output_type": "error",
     "traceback": [
      "\u001b[1;31m---------------------------------------------------------------------------\u001b[0m",
      "\u001b[1;31mAssertionError\u001b[0m                            Traceback (most recent call last)",
      "\u001b[1;32m<ipython-input-17-34344ae645a4>\u001b[0m in \u001b[0;36m<module>\u001b[1;34m\u001b[0m\n\u001b[0;32m      1\u001b[0m \u001b[1;34m\"AssertionError\"\u001b[0m\u001b[1;33m\u001b[0m\u001b[1;33m\u001b[0m\u001b[0m\n\u001b[1;32m----> 2\u001b[1;33m \u001b[0mprint\u001b[0m\u001b[1;33m(\u001b[0m\u001b[0mtest_limpeza_stopwords\u001b[0m\u001b[1;33m(\u001b[0m\u001b[1;34m\"Testando a função com qualquer frase que se deseja, ou qualquer texto.\"\u001b[0m\u001b[1;33m)\u001b[0m\u001b[1;33m)\u001b[0m\u001b[1;33m\u001b[0m\u001b[1;33m\u001b[0m\u001b[0m\n\u001b[0m",
      "\u001b[1;32m<ipython-input-16-f1cbb0c553e8>\u001b[0m in \u001b[0;36mtest_limpeza_stopwords\u001b[1;34m(texto)\u001b[0m\n\u001b[0;32m      5\u001b[0m     \u001b[0mstop_words\u001b[0m \u001b[1;33m=\u001b[0m \u001b[0mstopwords\u001b[0m\u001b[1;33m.\u001b[0m\u001b[0mwords\u001b[0m\u001b[1;33m(\u001b[0m\u001b[1;34m'portuguese'\u001b[0m\u001b[1;33m)\u001b[0m \u001b[1;33m+\u001b[0m \u001b[0mlist\u001b[0m\u001b[1;33m(\u001b[0m\u001b[0mpunctuation\u001b[0m\u001b[1;33m)\u001b[0m\u001b[1;33m\u001b[0m\u001b[1;33m\u001b[0m\u001b[0m\n\u001b[0;32m      6\u001b[0m     \u001b[0mtexto_limpo\u001b[0m \u001b[1;33m=\u001b[0m \u001b[1;34m' '\u001b[0m\u001b[1;33m.\u001b[0m\u001b[0mjoin\u001b[0m\u001b[1;33m(\u001b[0m\u001b[1;33m[\u001b[0m\u001b[0mword\u001b[0m \u001b[1;32mfor\u001b[0m \u001b[0mword\u001b[0m \u001b[1;32min\u001b[0m \u001b[0mtexto\u001b[0m\u001b[1;33m.\u001b[0m\u001b[0msplit\u001b[0m\u001b[1;33m(\u001b[0m\u001b[1;34m\" \"\u001b[0m\u001b[1;33m)\u001b[0m \u001b[1;32mif\u001b[0m \u001b[0mword\u001b[0m \u001b[1;32mnot\u001b[0m \u001b[1;32min\u001b[0m \u001b[0mstop_words\u001b[0m\u001b[1;33m]\u001b[0m\u001b[1;33m)\u001b[0m\u001b[1;33m\u001b[0m\u001b[1;33m\u001b[0m\u001b[0m\n\u001b[1;32m----> 7\u001b[1;33m     \u001b[1;32massert\u001b[0m \u001b[0mtexto_limpo\u001b[0m \u001b[1;33m==\u001b[0m \u001b[0mtexto\u001b[0m\u001b[1;33m\u001b[0m\u001b[1;33m\u001b[0m\u001b[0m\n\u001b[0m",
      "\u001b[1;31mAssertionError\u001b[0m: "
     ]
    }
   ],
   "source": [
    "\"AssertionError\"\n",
    "print(test_limpeza_stopwords(\"Testando a função com qualquer frase que se deseja, ou qualquer texto.\"))"
   ]
  },
  {
   "cell_type": "code",
   "execution_count": 18,
   "metadata": {},
   "outputs": [],
   "source": [
    "'''Função de limpeza a partir de função já integrada. \n",
    "None é se as frases são diferentes, ou seja o teste funcionou e erro caso contrario'''\n",
    "\n",
    "def test_limpeza_stopwords(texto):\n",
    "    stop_words = stopwords.words('portuguese') + list(punctuation)\n",
    "    texto_limpo = ' '.join([word for word in texto.split(\" \") if word not in stop_words])\n",
    "    assert texto_limpo != texto"
   ]
  },
  {
   "cell_type": "code",
   "execution_count": 19,
   "metadata": {},
   "outputs": [
    {
     "name": "stdout",
     "output_type": "stream",
     "text": [
      "None\n"
     ]
    }
   ],
   "source": [
    "\"None\"\n",
    "print(test_limpeza_stopwords(\"Testando a função com qualquer frase que se deseja, ou qualquer texto.\"))"
   ]
  },
  {
   "cell_type": "markdown",
   "metadata": {},
   "source": [
    "#### Os testes realizados abaixo foram utilizando o módulo unittest e sai um script com o resultado FAIL ou OK. Foram testados ambos casos"
   ]
  },
  {
   "cell_type": "code",
   "execution_count": 20,
   "metadata": {},
   "outputs": [
    {
     "name": "stderr",
     "output_type": "stream",
     "text": [
      "test_doc (__main__.TestNotebook) ... ok\n",
      "test_import (__main__.TestNotebook) ... ok\n",
      "test_pdf (__main__.TestNotebook) ... ok\n",
      "\n",
      "----------------------------------------------------------------------\n",
      "Ran 3 tests in 0.007s\n",
      "\n",
      "OK\n"
     ]
    },
    {
     "data": {
      "text/plain": [
       "<unittest.main.TestProgram at 0x1be2c67ff48>"
      ]
     },
     "execution_count": 20,
     "metadata": {},
     "output_type": "execute_result"
    }
   ],
   "source": [
    "class TestNotebook(unittest.TestCase):\n",
    "#testes com resultado ok\n",
    "\n",
    "    def test_import(self):\n",
    "        self.assertEqual(len(import_arquivos('./pasta_vazia')),0)\n",
    "    \n",
    "    def test_doc(self):\n",
    "        for i in import_arquivos('./pasta_doc'):\n",
    "            extensao = i.split('.')[len(i.split('.'))-1]\n",
    "            self.assertEqual(extensao.lower(), \"docx\")\n",
    "            \n",
    "    def test_pdf(self):\n",
    "        for i in import_arquivos('./pasta_pdf'):\n",
    "            extensao = i.split('.')[len(i.split('.'))-1]\n",
    "            self.assertEqual(extensao.lower(), \"pdf\")\n",
    "            \n",
    "unittest.main(argv=[''], verbosity=2, exit=False)"
   ]
  },
  {
   "cell_type": "code",
   "execution_count": 21,
   "metadata": {},
   "outputs": [
    {
     "name": "stderr",
     "output_type": "stream",
     "text": [
      "test_doc (__main__.TestNotebook) ... FAIL\n",
      "test_import (__main__.TestNotebook) ... FAIL\n",
      "test_pdf (__main__.TestNotebook) ... FAIL\n",
      "\n",
      "======================================================================\n",
      "FAIL: test_doc (__main__.TestNotebook)\n",
      "----------------------------------------------------------------------\n",
      "Traceback (most recent call last):\n",
      "  File \"<ipython-input-21-3d5e2d8ada2f>\", line 10, in test_doc\n",
      "    self.assertEqual(extensao.lower(), \"docx\")\n",
      "AssertionError: 'pdf' != 'docx'\n",
      "- pdf\n",
      "+ docx\n",
      "\n",
      "\n",
      "======================================================================\n",
      "FAIL: test_import (__main__.TestNotebook)\n",
      "----------------------------------------------------------------------\n",
      "Traceback (most recent call last):\n",
      "  File \"<ipython-input-21-3d5e2d8ada2f>\", line 5, in test_import\n",
      "    self.assertEqual(len(import_arquivos('./pasta_doc')),0)\n",
      "AssertionError: 1 != 0\n",
      "\n",
      "======================================================================\n",
      "FAIL: test_pdf (__main__.TestNotebook)\n",
      "----------------------------------------------------------------------\n",
      "Traceback (most recent call last):\n",
      "  File \"<ipython-input-21-3d5e2d8ada2f>\", line 15, in test_pdf\n",
      "    self.assertEqual(extensao.lower(), \"pdf\")\n",
      "AssertionError: 'docx' != 'pdf'\n",
      "- docx\n",
      "+ pdf\n",
      "\n",
      "\n",
      "----------------------------------------------------------------------\n",
      "Ran 3 tests in 0.008s\n",
      "\n",
      "FAILED (failures=3)\n"
     ]
    },
    {
     "data": {
      "text/plain": [
       "<unittest.main.TestProgram at 0x1be2c753888>"
      ]
     },
     "execution_count": 21,
     "metadata": {},
     "output_type": "execute_result"
    }
   ],
   "source": [
    "class TestNotebook(unittest.TestCase):           \n",
    "#testes com resultado fail\n",
    "            \n",
    "    def test_import(self):\n",
    "        self.assertEqual(len(import_arquivos('./pasta_doc')),0)\n",
    "    \n",
    "    def test_doc(self):\n",
    "        for i in import_arquivos('./pasta_pdf'):\n",
    "            extensao = i.split('.')[len(i.split('.'))-1]\n",
    "            self.assertEqual(extensao.lower(), \"docx\")\n",
    "            \n",
    "    def test_pdf(self):\n",
    "        for i in import_arquivos('./pasta_doc'):\n",
    "            extensao = i.split('.')[len(i.split('.'))-1]\n",
    "            self.assertEqual(extensao.lower(), \"pdf\")\n",
    "\n",
    "unittest.main(argv=[''], verbosity=2, exit=False)"
   ]
  },
  {
   "cell_type": "code",
   "execution_count": 22,
   "metadata": {},
   "outputs": [
    {
     "name": "stderr",
     "output_type": "stream",
     "text": [
      "test_limpeza_stopwords (__main__.TestNotebook) ... ok\n",
      "test_reducao_cx_alta (__main__.TestNotebook) ... ok\n",
      "\n",
      "----------------------------------------------------------------------\n",
      "Ran 2 tests in 0.006s\n",
      "\n",
      "OK\n"
     ]
    },
    {
     "data": {
      "text/plain": [
       "<unittest.main.TestProgram at 0x1be2c67fdc8>"
      ]
     },
     "execution_count": 22,
     "metadata": {},
     "output_type": "execute_result"
    }
   ],
   "source": [
    "class TestNotebook(unittest.TestCase):           \n",
    "#testes da função object create desmembrada\n",
    "#testes com resultado ok\n",
    "            \n",
    "    def test_reducao_cx_alta(self):\n",
    "        self.assertEqual(\"TestE caiXA\".lower(),'teste caixa')\n",
    "    \n",
    "    def test_limpeza_stopwords(self):\n",
    "        stop_words = stopwords.words('portuguese') + list(punctuation)\n",
    "        texto = \"Eu estudo na Pontifícia Universidade Católica do Rio de Janeiro, Puc-Rio, por 3 anos já\"\n",
    "        texto = ' '.join([word for word in texto.split(\" \") if word not in stop_words])\n",
    "        self.assertEqual(texto, \"Eu estudo Pontifícia Universidade Católica Rio Janeiro, Puc-Rio, 3 anos\")  \n",
    "        \n",
    "unittest.main(argv=[''], verbosity=2, exit=False)"
   ]
  },
  {
   "cell_type": "code",
   "execution_count": 23,
   "metadata": {},
   "outputs": [
    {
     "name": "stderr",
     "output_type": "stream",
     "text": [
      "test_limpeza_stopwords (__main__.TestNotebook) ... FAIL\n",
      "test_reducao_cx_alta (__main__.TestNotebook) ... FAIL\n",
      "\n",
      "======================================================================\n",
      "FAIL: test_limpeza_stopwords (__main__.TestNotebook)\n",
      "----------------------------------------------------------------------\n",
      "Traceback (most recent call last):\n",
      "  File \"<ipython-input-23-e7aae33c27a7>\", line 12, in test_limpeza_stopwords\n",
      "    self.assertEqual(texto_limpo, texto)\n",
      "AssertionError: 'Eu estudo Pontifícia Universidade Católica Rio Jane[16 chars]anos' != 'Eu estudo na Pontifícia Universidade Católica do Ri[32 chars]s já'\n",
      "- Eu estudo Pontifícia Universidade Católica Rio Janeiro, Puc-Rio, 3 anos\n",
      "+ Eu estudo na Pontifícia Universidade Católica do Rio de Janeiro, Puc-Rio, por 3 anos já\n",
      "?          +++                                  +++   +++                   ++++      +++\n",
      "\n",
      "\n",
      "======================================================================\n",
      "FAIL: test_reducao_cx_alta (__main__.TestNotebook)\n",
      "----------------------------------------------------------------------\n",
      "Traceback (most recent call last):\n",
      "  File \"<ipython-input-23-e7aae33c27a7>\", line 6, in test_reducao_cx_alta\n",
      "    self.assertEqual(\"TestE caiXA\".lower(),\"TestE caiXA\")\n",
      "AssertionError: 'teste caixa' != 'TestE caiXA'\n",
      "- teste caixa\n",
      "+ TestE caiXA\n",
      "\n",
      "\n",
      "----------------------------------------------------------------------\n",
      "Ran 2 tests in 0.008s\n",
      "\n",
      "FAILED (failures=2)\n"
     ]
    },
    {
     "data": {
      "text/plain": [
       "<unittest.main.TestProgram at 0x1be2c752e08>"
      ]
     },
     "execution_count": 23,
     "metadata": {},
     "output_type": "execute_result"
    }
   ],
   "source": [
    "class TestNotebook(unittest.TestCase):           \n",
    "#testes da função object create desmembrada\n",
    "#testes com resultado fail\n",
    "            \n",
    "    def test_reducao_cx_alta(self):\n",
    "        self.assertEqual(\"TestE caiXA\".lower(),\"TestE caiXA\")\n",
    "    \n",
    "    def test_limpeza_stopwords(self):\n",
    "        stop_words = stopwords.words('portuguese') + list(punctuation)\n",
    "        texto = \"Eu estudo na Pontifícia Universidade Católica do Rio de Janeiro, Puc-Rio, por 3 anos já\"\n",
    "        texto_limpo = ' '.join([word for word in texto.split(\" \") if word not in stop_words])\n",
    "        self.assertEqual(texto_limpo, texto)  \n",
    "        \n",
    "unittest.main(argv=[''], verbosity=2, exit=False)"
   ]
  },
  {
   "cell_type": "code",
   "execution_count": 24,
   "metadata": {},
   "outputs": [],
   "source": [
    "def import_arquivos(diretorio):\n",
    "    arquivos = [arq for arq in os.listdir(diretorio) if (arq.lower().endswith(\".pdf\") | arq.lower().endswith(\".docx\"))]\n",
    "    return(arquivos)"
   ]
  },
  {
   "cell_type": "code",
   "execution_count": 25,
   "metadata": {},
   "outputs": [],
   "source": [
    "def object_create(diretorio):\n",
    "    arquivos = import_arquivos(diretorio)\n",
    "    textos = []\n",
    "    nomes = []\n",
    "    erros = []\n",
    "    for arq in arquivos:\n",
    "        docx = []\n",
    "        if (arq.endswith(\".docx\")):\n",
    "            aux = Document(arq)\n",
    "            nomes.append(arq) \n",
    "            for doc in aux.paragraphs:\n",
    "                temp = doc.text\n",
    "                temp =re.sub('\\s+', ' ', unicodedata.normalize(\"NFKD\",temp).encode('ASCII','ignore')\n",
    "                             .decode('ASCII')).lower().strip()\n",
    "                docx.append(temp)\n",
    "            textos.append(' '.join(docx))              \n",
    "        else:\n",
    "            try:\n",
    "                temp= parser.from_file(arq)['content']\n",
    "                temp = temp.lower()\n",
    "                temp = temp.replace(\"\\n\",\" \")\n",
    "                nomes.append(arq)\n",
    "                textos.append(temp)\n",
    "            except Exception as e:\n",
    "                try:\n",
    "                    temp = open(arq, 'rb')#insere no python\n",
    "                    pdf = PyPDF2.PdfFileReader(temp)#cria objeto \n",
    "                    for j in range (pdf.getNumPages()):\n",
    "                        temp = pdf.getPage(j).extractText()#retira o texto\n",
    "                        temp = temp.lower()\n",
    "                        temp = temp.replace(\"\\n\",\" \")\n",
    "                        temp = temp.replace(\"   \",\" \")\n",
    "                        nomes.append(arq)\n",
    "                        textos.append(temp)\n",
    "                except Exception as e:\n",
    "                      erros.append([e,arq])\n",
    "                continue      \n",
    "    return textos, nomes, erros   "
   ]
  },
  {
   "cell_type": "code",
   "execution_count": 26,
   "metadata": {},
   "outputs": [],
   "source": [
    "def limpeza(diretorio):\n",
    "    textos, titulos, erros = object_create(diretorio)\n",
    "    stop_words = stopwords.words('portuguese') + list(punctuation)\n",
    "    for t in range(len(textos)):\n",
    "        textos[t] = ' '.join([word for word in textos[t].split(\" \") if word not in stop_words])\n",
    "    return textos, titulos #,erros"
   ]
  },
  {
   "cell_type": "markdown",
   "metadata": {},
   "source": [
    "#### O teste de similaridade foi feito com repetição de casos além de teste com o mesmo caso, e pode ser observado e validado a partir da tabela exibida apos a execução."
   ]
  },
  {
   "cell_type": "code",
   "execution_count": 27,
   "metadata": {},
   "outputs": [],
   "source": [
    "def similaridade(diretorio):\n",
    "    textos, titulos = limpeza(diretorio)\n",
    "    similaridade = pd.DataFrame(columns = ['Título_1', \"Similaridade\",'Título_2'])\n",
    "    Título_1 = []\n",
    "    Título_2 = []\n",
    "    Similaridade = []\n",
    "    nlp = spacy.load (\"pt_core_news_md\")\n",
    "    for i in range(len(textos)):\n",
    "        for j in range(len(textos)):\n",
    "            Título_1.append(titulos[i])\n",
    "            Título_2.append(titulos[j])\n",
    "            Similaridade.append(nlp(textos[i]).similarity(nlp(textos[j])))\n",
    "    similaridade['Título_1'] = Título_1\n",
    "    similaridade['Título_2'] = Título_2\n",
    "    similaridade[\"Similaridade\"] = Similaridade\n",
    "    return similaridade\n",
    "    #similaridade.to_excel(diretorio +'/textos_similaridade.xlsx')"
   ]
  },
  {
   "cell_type": "code",
   "execution_count": 28,
   "metadata": {},
   "outputs": [
    {
     "data": {
      "text/html": [
       "<div>\n",
       "<style scoped>\n",
       "    .dataframe tbody tr th:only-of-type {\n",
       "        vertical-align: middle;\n",
       "    }\n",
       "\n",
       "    .dataframe tbody tr th {\n",
       "        vertical-align: top;\n",
       "    }\n",
       "\n",
       "    .dataframe thead th {\n",
       "        text-align: right;\n",
       "    }\n",
       "</style>\n",
       "<table border=\"1\" class=\"dataframe\">\n",
       "  <thead>\n",
       "    <tr style=\"text-align: right;\">\n",
       "      <th></th>\n",
       "      <th>Título_1</th>\n",
       "      <th>Similaridade</th>\n",
       "      <th>Título_2</th>\n",
       "    </tr>\n",
       "  </thead>\n",
       "  <tbody>\n",
       "    <tr>\n",
       "      <th>0</th>\n",
       "      <td>2017_FranciscoVitorLopesdaFrota.pdf</td>\n",
       "      <td>1.000000</td>\n",
       "      <td>2017_FranciscoVitorLopesdaFrota.pdf</td>\n",
       "    </tr>\n",
       "    <tr>\n",
       "      <th>1</th>\n",
       "      <td>2017_FranciscoVitorLopesdaFrota.pdf</td>\n",
       "      <td>0.397806</td>\n",
       "      <td>Calculating the similarity between words and.pdf</td>\n",
       "    </tr>\n",
       "    <tr>\n",
       "      <th>2</th>\n",
       "      <td>2017_FranciscoVitorLopesdaFrota.pdf</td>\n",
       "      <td>0.308064</td>\n",
       "      <td>DISTORSION DU MOI EN FONCTION DU VRAI ET DU FA...</td>\n",
       "    </tr>\n",
       "    <tr>\n",
       "      <th>3</th>\n",
       "      <td>2017_FranciscoVitorLopesdaFrota.pdf</td>\n",
       "      <td>0.843356</td>\n",
       "      <td>Edital de Seleção para Mestrado e Doutorado Ac...</td>\n",
       "    </tr>\n",
       "    <tr>\n",
       "      <th>4</th>\n",
       "      <td>2017_FranciscoVitorLopesdaFrota.pdf</td>\n",
       "      <td>0.575008</td>\n",
       "      <td>FATO RELEVANTE_COMPANHIA ABERTA.pdf</td>\n",
       "    </tr>\n",
       "    <tr>\n",
       "      <th>5</th>\n",
       "      <td>2017_FranciscoVitorLopesdaFrota.pdf</td>\n",
       "      <td>0.829308</td>\n",
       "      <td>PETROBRÁS CONEXÕES INOVAÇÃO.pdf</td>\n",
       "    </tr>\n",
       "    <tr>\n",
       "      <th>6</th>\n",
       "      <td>Calculating the similarity between words and.pdf</td>\n",
       "      <td>0.397806</td>\n",
       "      <td>2017_FranciscoVitorLopesdaFrota.pdf</td>\n",
       "    </tr>\n",
       "    <tr>\n",
       "      <th>7</th>\n",
       "      <td>Calculating the similarity between words and.pdf</td>\n",
       "      <td>1.000000</td>\n",
       "      <td>Calculating the similarity between words and.pdf</td>\n",
       "    </tr>\n",
       "    <tr>\n",
       "      <th>8</th>\n",
       "      <td>Calculating the similarity between words and.pdf</td>\n",
       "      <td>0.402148</td>\n",
       "      <td>DISTORSION DU MOI EN FONCTION DU VRAI ET DU FA...</td>\n",
       "    </tr>\n",
       "    <tr>\n",
       "      <th>9</th>\n",
       "      <td>Calculating the similarity between words and.pdf</td>\n",
       "      <td>0.276265</td>\n",
       "      <td>Edital de Seleção para Mestrado e Doutorado Ac...</td>\n",
       "    </tr>\n",
       "    <tr>\n",
       "      <th>10</th>\n",
       "      <td>Calculating the similarity between words and.pdf</td>\n",
       "      <td>0.850725</td>\n",
       "      <td>FATO RELEVANTE_COMPANHIA ABERTA.pdf</td>\n",
       "    </tr>\n",
       "    <tr>\n",
       "      <th>11</th>\n",
       "      <td>Calculating the similarity between words and.pdf</td>\n",
       "      <td>0.164815</td>\n",
       "      <td>PETROBRÁS CONEXÕES INOVAÇÃO.pdf</td>\n",
       "    </tr>\n",
       "    <tr>\n",
       "      <th>12</th>\n",
       "      <td>DISTORSION DU MOI EN FONCTION DU VRAI ET DU FA...</td>\n",
       "      <td>0.308064</td>\n",
       "      <td>2017_FranciscoVitorLopesdaFrota.pdf</td>\n",
       "    </tr>\n",
       "    <tr>\n",
       "      <th>13</th>\n",
       "      <td>DISTORSION DU MOI EN FONCTION DU VRAI ET DU FA...</td>\n",
       "      <td>0.402148</td>\n",
       "      <td>Calculating the similarity between words and.pdf</td>\n",
       "    </tr>\n",
       "    <tr>\n",
       "      <th>14</th>\n",
       "      <td>DISTORSION DU MOI EN FONCTION DU VRAI ET DU FA...</td>\n",
       "      <td>1.000000</td>\n",
       "      <td>DISTORSION DU MOI EN FONCTION DU VRAI ET DU FA...</td>\n",
       "    </tr>\n",
       "    <tr>\n",
       "      <th>15</th>\n",
       "      <td>DISTORSION DU MOI EN FONCTION DU VRAI ET DU FA...</td>\n",
       "      <td>0.242667</td>\n",
       "      <td>Edital de Seleção para Mestrado e Doutorado Ac...</td>\n",
       "    </tr>\n",
       "    <tr>\n",
       "      <th>16</th>\n",
       "      <td>DISTORSION DU MOI EN FONCTION DU VRAI ET DU FA...</td>\n",
       "      <td>0.339002</td>\n",
       "      <td>FATO RELEVANTE_COMPANHIA ABERTA.pdf</td>\n",
       "    </tr>\n",
       "    <tr>\n",
       "      <th>17</th>\n",
       "      <td>DISTORSION DU MOI EN FONCTION DU VRAI ET DU FA...</td>\n",
       "      <td>0.165306</td>\n",
       "      <td>PETROBRÁS CONEXÕES INOVAÇÃO.pdf</td>\n",
       "    </tr>\n",
       "    <tr>\n",
       "      <th>18</th>\n",
       "      <td>Edital de Seleção para Mestrado e Doutorado Ac...</td>\n",
       "      <td>0.843356</td>\n",
       "      <td>2017_FranciscoVitorLopesdaFrota.pdf</td>\n",
       "    </tr>\n",
       "    <tr>\n",
       "      <th>19</th>\n",
       "      <td>Edital de Seleção para Mestrado e Doutorado Ac...</td>\n",
       "      <td>0.276265</td>\n",
       "      <td>Calculating the similarity between words and.pdf</td>\n",
       "    </tr>\n",
       "    <tr>\n",
       "      <th>20</th>\n",
       "      <td>Edital de Seleção para Mestrado e Doutorado Ac...</td>\n",
       "      <td>0.242667</td>\n",
       "      <td>DISTORSION DU MOI EN FONCTION DU VRAI ET DU FA...</td>\n",
       "    </tr>\n",
       "    <tr>\n",
       "      <th>21</th>\n",
       "      <td>Edital de Seleção para Mestrado e Doutorado Ac...</td>\n",
       "      <td>1.000000</td>\n",
       "      <td>Edital de Seleção para Mestrado e Doutorado Ac...</td>\n",
       "    </tr>\n",
       "    <tr>\n",
       "      <th>22</th>\n",
       "      <td>Edital de Seleção para Mestrado e Doutorado Ac...</td>\n",
       "      <td>0.582634</td>\n",
       "      <td>FATO RELEVANTE_COMPANHIA ABERTA.pdf</td>\n",
       "    </tr>\n",
       "    <tr>\n",
       "      <th>23</th>\n",
       "      <td>Edital de Seleção para Mestrado e Doutorado Ac...</td>\n",
       "      <td>0.908569</td>\n",
       "      <td>PETROBRÁS CONEXÕES INOVAÇÃO.pdf</td>\n",
       "    </tr>\n",
       "    <tr>\n",
       "      <th>24</th>\n",
       "      <td>FATO RELEVANTE_COMPANHIA ABERTA.pdf</td>\n",
       "      <td>0.575008</td>\n",
       "      <td>2017_FranciscoVitorLopesdaFrota.pdf</td>\n",
       "    </tr>\n",
       "    <tr>\n",
       "      <th>25</th>\n",
       "      <td>FATO RELEVANTE_COMPANHIA ABERTA.pdf</td>\n",
       "      <td>0.850725</td>\n",
       "      <td>Calculating the similarity between words and.pdf</td>\n",
       "    </tr>\n",
       "    <tr>\n",
       "      <th>26</th>\n",
       "      <td>FATO RELEVANTE_COMPANHIA ABERTA.pdf</td>\n",
       "      <td>0.339002</td>\n",
       "      <td>DISTORSION DU MOI EN FONCTION DU VRAI ET DU FA...</td>\n",
       "    </tr>\n",
       "    <tr>\n",
       "      <th>27</th>\n",
       "      <td>FATO RELEVANTE_COMPANHIA ABERTA.pdf</td>\n",
       "      <td>0.582634</td>\n",
       "      <td>Edital de Seleção para Mestrado e Doutorado Ac...</td>\n",
       "    </tr>\n",
       "    <tr>\n",
       "      <th>28</th>\n",
       "      <td>FATO RELEVANTE_COMPANHIA ABERTA.pdf</td>\n",
       "      <td>1.000000</td>\n",
       "      <td>FATO RELEVANTE_COMPANHIA ABERTA.pdf</td>\n",
       "    </tr>\n",
       "    <tr>\n",
       "      <th>29</th>\n",
       "      <td>FATO RELEVANTE_COMPANHIA ABERTA.pdf</td>\n",
       "      <td>0.496926</td>\n",
       "      <td>PETROBRÁS CONEXÕES INOVAÇÃO.pdf</td>\n",
       "    </tr>\n",
       "    <tr>\n",
       "      <th>30</th>\n",
       "      <td>PETROBRÁS CONEXÕES INOVAÇÃO.pdf</td>\n",
       "      <td>0.829308</td>\n",
       "      <td>2017_FranciscoVitorLopesdaFrota.pdf</td>\n",
       "    </tr>\n",
       "    <tr>\n",
       "      <th>31</th>\n",
       "      <td>PETROBRÁS CONEXÕES INOVAÇÃO.pdf</td>\n",
       "      <td>0.164815</td>\n",
       "      <td>Calculating the similarity between words and.pdf</td>\n",
       "    </tr>\n",
       "    <tr>\n",
       "      <th>32</th>\n",
       "      <td>PETROBRÁS CONEXÕES INOVAÇÃO.pdf</td>\n",
       "      <td>0.165306</td>\n",
       "      <td>DISTORSION DU MOI EN FONCTION DU VRAI ET DU FA...</td>\n",
       "    </tr>\n",
       "    <tr>\n",
       "      <th>33</th>\n",
       "      <td>PETROBRÁS CONEXÕES INOVAÇÃO.pdf</td>\n",
       "      <td>0.908569</td>\n",
       "      <td>Edital de Seleção para Mestrado e Doutorado Ac...</td>\n",
       "    </tr>\n",
       "    <tr>\n",
       "      <th>34</th>\n",
       "      <td>PETROBRÁS CONEXÕES INOVAÇÃO.pdf</td>\n",
       "      <td>0.496926</td>\n",
       "      <td>FATO RELEVANTE_COMPANHIA ABERTA.pdf</td>\n",
       "    </tr>\n",
       "    <tr>\n",
       "      <th>35</th>\n",
       "      <td>PETROBRÁS CONEXÕES INOVAÇÃO.pdf</td>\n",
       "      <td>1.000000</td>\n",
       "      <td>PETROBRÁS CONEXÕES INOVAÇÃO.pdf</td>\n",
       "    </tr>\n",
       "  </tbody>\n",
       "</table>\n",
       "</div>"
      ],
      "text/plain": [
       "                                             Título_1  Similaridade  \\\n",
       "0                 2017_FranciscoVitorLopesdaFrota.pdf      1.000000   \n",
       "1                 2017_FranciscoVitorLopesdaFrota.pdf      0.397806   \n",
       "2                 2017_FranciscoVitorLopesdaFrota.pdf      0.308064   \n",
       "3                 2017_FranciscoVitorLopesdaFrota.pdf      0.843356   \n",
       "4                 2017_FranciscoVitorLopesdaFrota.pdf      0.575008   \n",
       "5                 2017_FranciscoVitorLopesdaFrota.pdf      0.829308   \n",
       "6    Calculating the similarity between words and.pdf      0.397806   \n",
       "7    Calculating the similarity between words and.pdf      1.000000   \n",
       "8    Calculating the similarity between words and.pdf      0.402148   \n",
       "9    Calculating the similarity between words and.pdf      0.276265   \n",
       "10   Calculating the similarity between words and.pdf      0.850725   \n",
       "11   Calculating the similarity between words and.pdf      0.164815   \n",
       "12  DISTORSION DU MOI EN FONCTION DU VRAI ET DU FA...      0.308064   \n",
       "13  DISTORSION DU MOI EN FONCTION DU VRAI ET DU FA...      0.402148   \n",
       "14  DISTORSION DU MOI EN FONCTION DU VRAI ET DU FA...      1.000000   \n",
       "15  DISTORSION DU MOI EN FONCTION DU VRAI ET DU FA...      0.242667   \n",
       "16  DISTORSION DU MOI EN FONCTION DU VRAI ET DU FA...      0.339002   \n",
       "17  DISTORSION DU MOI EN FONCTION DU VRAI ET DU FA...      0.165306   \n",
       "18  Edital de Seleção para Mestrado e Doutorado Ac...      0.843356   \n",
       "19  Edital de Seleção para Mestrado e Doutorado Ac...      0.276265   \n",
       "20  Edital de Seleção para Mestrado e Doutorado Ac...      0.242667   \n",
       "21  Edital de Seleção para Mestrado e Doutorado Ac...      1.000000   \n",
       "22  Edital de Seleção para Mestrado e Doutorado Ac...      0.582634   \n",
       "23  Edital de Seleção para Mestrado e Doutorado Ac...      0.908569   \n",
       "24                FATO RELEVANTE_COMPANHIA ABERTA.pdf      0.575008   \n",
       "25                FATO RELEVANTE_COMPANHIA ABERTA.pdf      0.850725   \n",
       "26                FATO RELEVANTE_COMPANHIA ABERTA.pdf      0.339002   \n",
       "27                FATO RELEVANTE_COMPANHIA ABERTA.pdf      0.582634   \n",
       "28                FATO RELEVANTE_COMPANHIA ABERTA.pdf      1.000000   \n",
       "29                FATO RELEVANTE_COMPANHIA ABERTA.pdf      0.496926   \n",
       "30                    PETROBRÁS CONEXÕES INOVAÇÃO.pdf      0.829308   \n",
       "31                    PETROBRÁS CONEXÕES INOVAÇÃO.pdf      0.164815   \n",
       "32                    PETROBRÁS CONEXÕES INOVAÇÃO.pdf      0.165306   \n",
       "33                    PETROBRÁS CONEXÕES INOVAÇÃO.pdf      0.908569   \n",
       "34                    PETROBRÁS CONEXÕES INOVAÇÃO.pdf      0.496926   \n",
       "35                    PETROBRÁS CONEXÕES INOVAÇÃO.pdf      1.000000   \n",
       "\n",
       "                                             Título_2  \n",
       "0                 2017_FranciscoVitorLopesdaFrota.pdf  \n",
       "1    Calculating the similarity between words and.pdf  \n",
       "2   DISTORSION DU MOI EN FONCTION DU VRAI ET DU FA...  \n",
       "3   Edital de Seleção para Mestrado e Doutorado Ac...  \n",
       "4                 FATO RELEVANTE_COMPANHIA ABERTA.pdf  \n",
       "5                     PETROBRÁS CONEXÕES INOVAÇÃO.pdf  \n",
       "6                 2017_FranciscoVitorLopesdaFrota.pdf  \n",
       "7    Calculating the similarity between words and.pdf  \n",
       "8   DISTORSION DU MOI EN FONCTION DU VRAI ET DU FA...  \n",
       "9   Edital de Seleção para Mestrado e Doutorado Ac...  \n",
       "10                FATO RELEVANTE_COMPANHIA ABERTA.pdf  \n",
       "11                    PETROBRÁS CONEXÕES INOVAÇÃO.pdf  \n",
       "12                2017_FranciscoVitorLopesdaFrota.pdf  \n",
       "13   Calculating the similarity between words and.pdf  \n",
       "14  DISTORSION DU MOI EN FONCTION DU VRAI ET DU FA...  \n",
       "15  Edital de Seleção para Mestrado e Doutorado Ac...  \n",
       "16                FATO RELEVANTE_COMPANHIA ABERTA.pdf  \n",
       "17                    PETROBRÁS CONEXÕES INOVAÇÃO.pdf  \n",
       "18                2017_FranciscoVitorLopesdaFrota.pdf  \n",
       "19   Calculating the similarity between words and.pdf  \n",
       "20  DISTORSION DU MOI EN FONCTION DU VRAI ET DU FA...  \n",
       "21  Edital de Seleção para Mestrado e Doutorado Ac...  \n",
       "22                FATO RELEVANTE_COMPANHIA ABERTA.pdf  \n",
       "23                    PETROBRÁS CONEXÕES INOVAÇÃO.pdf  \n",
       "24                2017_FranciscoVitorLopesdaFrota.pdf  \n",
       "25   Calculating the similarity between words and.pdf  \n",
       "26  DISTORSION DU MOI EN FONCTION DU VRAI ET DU FA...  \n",
       "27  Edital de Seleção para Mestrado e Doutorado Ac...  \n",
       "28                FATO RELEVANTE_COMPANHIA ABERTA.pdf  \n",
       "29                    PETROBRÁS CONEXÕES INOVAÇÃO.pdf  \n",
       "30                2017_FranciscoVitorLopesdaFrota.pdf  \n",
       "31   Calculating the similarity between words and.pdf  \n",
       "32  DISTORSION DU MOI EN FONCTION DU VRAI ET DU FA...  \n",
       "33  Edital de Seleção para Mestrado e Doutorado Ac...  \n",
       "34                FATO RELEVANTE_COMPANHIA ABERTA.pdf  \n",
       "35                    PETROBRÁS CONEXÕES INOVAÇÃO.pdf  "
      ]
     },
     "execution_count": 28,
     "metadata": {},
     "output_type": "execute_result"
    }
   ],
   "source": [
    "similaridade('C:/Users/Vanessa/Downloads/INF2102')"
   ]
  }
 ],
 "metadata": {
  "kernelspec": {
   "display_name": "Python 3",
   "language": "python",
   "name": "python3"
  },
  "language_info": {
   "codemirror_mode": {
    "name": "ipython",
    "version": 3
   },
   "file_extension": ".py",
   "mimetype": "text/x-python",
   "name": "python",
   "nbconvert_exporter": "python",
   "pygments_lexer": "ipython3",
   "version": "3.7.6"
  }
 },
 "nbformat": 4,
 "nbformat_minor": 2
}
